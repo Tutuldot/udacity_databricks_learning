{
 "cells": [
  {
   "cell_type": "code",
   "execution_count": 0,
   "metadata": {
    "application/vnd.databricks.v1+cell": {
     "cellMetadata": {
      "byteLimit": 2048000,
      "rowLimit": 10000
     },
     "inputWidgets": {},
     "nuid": "1cb5a488-f130-4c1e-88c6-173154a09f63",
     "showTitle": false,
     "tableResultSettingsMap": {},
     "title": ""
    }
   },
   "outputs": [],
   "source": [
    "import json\n",
    "# job 2\n",
    "dbutils.widgets.text(\"exclude\",\"NA\",\"Exclude\")\n",
    "print(dbutils.widgets.get(\"exclude\"))\n",
    "product_types = [\"Orchard Oasis\",\"Pearly Pies\",\"Golden Gate Ginger\"]\n",
    "dbutils.jobs.taskValues.set(key = \"product_types\",value = product_types)"
   ]
  },
  {
   "cell_type": "code",
   "execution_count": 0,
   "metadata": {
    "application/vnd.databricks.v1+cell": {
     "cellMetadata": {
      "byteLimit": 2048000,
      "rowLimit": 10000
     },
     "inputWidgets": {},
     "nuid": "918cce86-6bea-4d0a-b3af-ef1c303c4185",
     "showTitle": false,
     "tableResultSettingsMap": {},
     "title": ""
    }
   },
   "outputs": [],
   "source": [
    "dbutils.notebook.exit(json.dumps(product_types))"
   ]
  }
 ],
 "metadata": {
  "application/vnd.databricks.v1+notebook": {
   "computePreferences": null,
   "dashboards": [],
   "environmentMetadata": {
    "base_environment": "",
    "environment_version": "2"
   },
   "inputWidgetPreferences": null,
   "language": "python",
   "notebookMetadata": {
    "pythonIndentUnit": 4
   },
   "notebookName": "Job 2",
   "widgets": {
    "exclude": {
     "currentValue": "NA",
     "nuid": "539eb5a7-a01d-4983-9ebb-bc7b4fb5feb1",
     "typedWidgetInfo": {
      "autoCreated": false,
      "defaultValue": "NA",
      "label": "Exclude",
      "name": "exclude",
      "options": {
       "widgetDisplayType": "Text",
       "validationRegex": null
      },
      "parameterDataType": "String"
     },
     "widgetInfo": {
      "widgetType": "text",
      "defaultValue": "NA",
      "label": "Exclude",
      "name": "exclude",
      "options": {
       "widgetType": "text",
       "autoCreated": null,
       "validationRegex": null
      }
     }
    }
   }
  },
  "language_info": {
   "name": "python"
  }
 },
 "nbformat": 4,
 "nbformat_minor": 0
}
